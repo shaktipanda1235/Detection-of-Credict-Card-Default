{
 "cells": [
  {
   "cell_type": "code",
   "execution_count": 2,
   "id": "f06a5ba0",
   "metadata": {},
   "outputs": [],
   "source": [
    "import numpy as np\n",
    "import pandas as pd\n",
    "\n",
    "from warnings import filterwarnings\n",
    "filterwarnings('ignore')\n",
    "\n",
    "pd.set_option('display.max_columns',50)\n",
    "\n",
    "import seaborn as sns\n",
    "import matplotlib.pyplot as plt\n",
    "\n",
    "from scipy import stats\n",
    "import statsmodels.api\n",
    "\n",
    "plt.rcParams['figure.figsize'] = [12, 6]\n",
    "\n",
    "from sklearn.preprocessing import StandardScaler,PowerTransformer\n",
    "from sklearn.model_selection import train_test_split,KFold,cross_val_score,GridSearchCV,validation_curve\n",
    "\n",
    "from sklearn.linear_model import LogisticRegression\n",
    "from sklearn.neighbors import KNeighborsClassifier\n",
    "from sklearn.naive_bayes import GaussianNB\n",
    "\n",
    "from sklearn.tree import DecisionTreeClassifier\n",
    "from sklearn.ensemble import RandomForestClassifier,AdaBoostClassifier,GradientBoostingClassifier, StackingClassifier, VotingClassifier\n",
    "from xgboost import XGBClassifier\n",
    "\n",
    "from sklearn.metrics import accuracy_score, classification_report, confusion_matrix, precision_score, recall_score,roc_auc_score,f1_score,roc_curve,precision_score"
   ]
  },
  {
   "cell_type": "code",
   "execution_count": 3,
   "id": "ca1f386c",
   "metadata": {},
   "outputs": [
    {
     "data": {
      "text/html": [
       "<div>\n",
       "<style scoped>\n",
       "    .dataframe tbody tr th:only-of-type {\n",
       "        vertical-align: middle;\n",
       "    }\n",
       "\n",
       "    .dataframe tbody tr th {\n",
       "        vertical-align: top;\n",
       "    }\n",
       "\n",
       "    .dataframe thead th {\n",
       "        text-align: right;\n",
       "    }\n",
       "</style>\n",
       "<table border=\"1\" class=\"dataframe\">\n",
       "  <thead>\n",
       "    <tr style=\"text-align: right;\">\n",
       "      <th></th>\n",
       "      <th>LIMIT_BAL</th>\n",
       "      <th>SEX</th>\n",
       "      <th>EDUCATION</th>\n",
       "      <th>MARRIAGE</th>\n",
       "      <th>AGE</th>\n",
       "      <th>PAY_1</th>\n",
       "      <th>PAY_2</th>\n",
       "      <th>PAY_3</th>\n",
       "      <th>PAY_4</th>\n",
       "      <th>PAY_5</th>\n",
       "      <th>PAY_6</th>\n",
       "      <th>BILL_AMT1</th>\n",
       "      <th>BILL_AMT2</th>\n",
       "      <th>BILL_AMT3</th>\n",
       "      <th>BILL_AMT4</th>\n",
       "      <th>BILL_AMT5</th>\n",
       "      <th>BILL_AMT6</th>\n",
       "      <th>PAY_AMT1</th>\n",
       "      <th>PAY_AMT2</th>\n",
       "      <th>PAY_AMT3</th>\n",
       "      <th>PAY_AMT4</th>\n",
       "      <th>PAY_AMT5</th>\n",
       "      <th>PAY_AMT6</th>\n",
       "      <th>Default</th>\n",
       "      <th>Higest_Delay</th>\n",
       "      <th>Delay_Count</th>\n",
       "      <th>age_group</th>\n",
       "      <th>billmean</th>\n",
       "      <th>amtmean</th>\n",
       "    </tr>\n",
       "  </thead>\n",
       "  <tbody>\n",
       "    <tr>\n",
       "      <th>0</th>\n",
       "      <td>20000</td>\n",
       "      <td>0</td>\n",
       "      <td>2</td>\n",
       "      <td>1</td>\n",
       "      <td>24</td>\n",
       "      <td>2</td>\n",
       "      <td>2</td>\n",
       "      <td>-1</td>\n",
       "      <td>-1</td>\n",
       "      <td>-2</td>\n",
       "      <td>-2</td>\n",
       "      <td>3913</td>\n",
       "      <td>3102</td>\n",
       "      <td>689</td>\n",
       "      <td>0</td>\n",
       "      <td>0</td>\n",
       "      <td>0</td>\n",
       "      <td>0</td>\n",
       "      <td>689</td>\n",
       "      <td>0</td>\n",
       "      <td>0</td>\n",
       "      <td>0</td>\n",
       "      <td>0</td>\n",
       "      <td>1</td>\n",
       "      <td>2</td>\n",
       "      <td>2</td>\n",
       "      <td>0</td>\n",
       "      <td>1284.000000</td>\n",
       "      <td>114.833333</td>\n",
       "    </tr>\n",
       "    <tr>\n",
       "      <th>1</th>\n",
       "      <td>120000</td>\n",
       "      <td>0</td>\n",
       "      <td>2</td>\n",
       "      <td>2</td>\n",
       "      <td>26</td>\n",
       "      <td>-1</td>\n",
       "      <td>2</td>\n",
       "      <td>0</td>\n",
       "      <td>0</td>\n",
       "      <td>0</td>\n",
       "      <td>2</td>\n",
       "      <td>2682</td>\n",
       "      <td>1725</td>\n",
       "      <td>2682</td>\n",
       "      <td>3272</td>\n",
       "      <td>3455</td>\n",
       "      <td>3261</td>\n",
       "      <td>0</td>\n",
       "      <td>1000</td>\n",
       "      <td>1000</td>\n",
       "      <td>1000</td>\n",
       "      <td>0</td>\n",
       "      <td>2000</td>\n",
       "      <td>1</td>\n",
       "      <td>2</td>\n",
       "      <td>5</td>\n",
       "      <td>0</td>\n",
       "      <td>2846.166667</td>\n",
       "      <td>833.333333</td>\n",
       "    </tr>\n",
       "    <tr>\n",
       "      <th>2</th>\n",
       "      <td>90000</td>\n",
       "      <td>0</td>\n",
       "      <td>2</td>\n",
       "      <td>2</td>\n",
       "      <td>34</td>\n",
       "      <td>0</td>\n",
       "      <td>0</td>\n",
       "      <td>0</td>\n",
       "      <td>0</td>\n",
       "      <td>0</td>\n",
       "      <td>0</td>\n",
       "      <td>29239</td>\n",
       "      <td>14027</td>\n",
       "      <td>13559</td>\n",
       "      <td>14331</td>\n",
       "      <td>14948</td>\n",
       "      <td>15549</td>\n",
       "      <td>1518</td>\n",
       "      <td>1500</td>\n",
       "      <td>1000</td>\n",
       "      <td>1000</td>\n",
       "      <td>1000</td>\n",
       "      <td>5000</td>\n",
       "      <td>0</td>\n",
       "      <td>0</td>\n",
       "      <td>6</td>\n",
       "      <td>1</td>\n",
       "      <td>16942.166667</td>\n",
       "      <td>1836.333333</td>\n",
       "    </tr>\n",
       "    <tr>\n",
       "      <th>3</th>\n",
       "      <td>50000</td>\n",
       "      <td>0</td>\n",
       "      <td>2</td>\n",
       "      <td>1</td>\n",
       "      <td>37</td>\n",
       "      <td>0</td>\n",
       "      <td>0</td>\n",
       "      <td>0</td>\n",
       "      <td>0</td>\n",
       "      <td>0</td>\n",
       "      <td>0</td>\n",
       "      <td>46990</td>\n",
       "      <td>48233</td>\n",
       "      <td>49291</td>\n",
       "      <td>28314</td>\n",
       "      <td>28959</td>\n",
       "      <td>29547</td>\n",
       "      <td>2000</td>\n",
       "      <td>2019</td>\n",
       "      <td>1200</td>\n",
       "      <td>1100</td>\n",
       "      <td>1069</td>\n",
       "      <td>1000</td>\n",
       "      <td>0</td>\n",
       "      <td>0</td>\n",
       "      <td>6</td>\n",
       "      <td>1</td>\n",
       "      <td>38555.666667</td>\n",
       "      <td>1398.000000</td>\n",
       "    </tr>\n",
       "    <tr>\n",
       "      <th>4</th>\n",
       "      <td>50000</td>\n",
       "      <td>1</td>\n",
       "      <td>2</td>\n",
       "      <td>1</td>\n",
       "      <td>57</td>\n",
       "      <td>-1</td>\n",
       "      <td>0</td>\n",
       "      <td>-1</td>\n",
       "      <td>0</td>\n",
       "      <td>0</td>\n",
       "      <td>0</td>\n",
       "      <td>8617</td>\n",
       "      <td>5670</td>\n",
       "      <td>35835</td>\n",
       "      <td>20940</td>\n",
       "      <td>19146</td>\n",
       "      <td>19131</td>\n",
       "      <td>2000</td>\n",
       "      <td>36681</td>\n",
       "      <td>10000</td>\n",
       "      <td>9000</td>\n",
       "      <td>689</td>\n",
       "      <td>679</td>\n",
       "      <td>0</td>\n",
       "      <td>0</td>\n",
       "      <td>4</td>\n",
       "      <td>2</td>\n",
       "      <td>18223.166667</td>\n",
       "      <td>9841.500000</td>\n",
       "    </tr>\n",
       "  </tbody>\n",
       "</table>\n",
       "</div>"
      ],
      "text/plain": [
       "   LIMIT_BAL  SEX  EDUCATION  MARRIAGE  AGE  PAY_1  PAY_2  PAY_3  PAY_4  \\\n",
       "0      20000    0          2         1   24      2      2     -1     -1   \n",
       "1     120000    0          2         2   26     -1      2      0      0   \n",
       "2      90000    0          2         2   34      0      0      0      0   \n",
       "3      50000    0          2         1   37      0      0      0      0   \n",
       "4      50000    1          2         1   57     -1      0     -1      0   \n",
       "\n",
       "   PAY_5  PAY_6  BILL_AMT1  BILL_AMT2  BILL_AMT3  BILL_AMT4  BILL_AMT5  \\\n",
       "0     -2     -2       3913       3102        689          0          0   \n",
       "1      0      2       2682       1725       2682       3272       3455   \n",
       "2      0      0      29239      14027      13559      14331      14948   \n",
       "3      0      0      46990      48233      49291      28314      28959   \n",
       "4      0      0       8617       5670      35835      20940      19146   \n",
       "\n",
       "   BILL_AMT6  PAY_AMT1  PAY_AMT2  PAY_AMT3  PAY_AMT4  PAY_AMT5  PAY_AMT6  \\\n",
       "0          0         0       689         0         0         0         0   \n",
       "1       3261         0      1000      1000      1000         0      2000   \n",
       "2      15549      1518      1500      1000      1000      1000      5000   \n",
       "3      29547      2000      2019      1200      1100      1069      1000   \n",
       "4      19131      2000     36681     10000      9000       689       679   \n",
       "\n",
       "   Default  Higest_Delay  Delay_Count  age_group      billmean      amtmean  \n",
       "0        1             2            2          0   1284.000000   114.833333  \n",
       "1        1             2            5          0   2846.166667   833.333333  \n",
       "2        0             0            6          1  16942.166667  1836.333333  \n",
       "3        0             0            6          1  38555.666667  1398.000000  \n",
       "4        0             0            4          2  18223.166667  9841.500000  "
      ]
     },
     "execution_count": 3,
     "metadata": {},
     "output_type": "execute_result"
    }
   ],
   "source": [
    "df=pd.read_csv('Cleaned_Data.csv')\n",
    "df.head()"
   ]
  },
  {
   "cell_type": "code",
   "execution_count": null,
   "id": "6f268ae1",
   "metadata": {},
   "outputs": [],
   "source": []
  },
  {
   "cell_type": "code",
   "execution_count": null,
   "id": "f5c71cbc",
   "metadata": {},
   "outputs": [],
   "source": [
    "## Train-Test Split"
   ]
  },
  {
   "cell_type": "code",
   "execution_count": 4,
   "id": "783c6397",
   "metadata": {},
   "outputs": [
    {
     "name": "stdout",
     "output_type": "stream",
     "text": [
      "(22500, 28)\n",
      "(7500, 28)\n",
      "(22500,)\n",
      "(7500,)\n"
     ]
    }
   ],
   "source": [
    "X=df.drop('Default',1)\n",
    "y=df['Default']\n",
    "xtrain,xtest,ytrain,ytest=train_test_split(X,y,random_state=10,test_size=0.25)\n",
    "\n",
    "print(xtrain.shape)\n",
    "print(xtest.shape)\n",
    "print(ytrain.shape)\n",
    "print(ytest.shape)"
   ]
  },
  {
   "cell_type": "code",
   "execution_count": 5,
   "id": "2f8bd8c3",
   "metadata": {},
   "outputs": [],
   "source": [
    "#Power Transform the data\n",
    "PT=PowerTransformer()\n",
    "xtrain_en=PT.fit_transform(xtrain)\n",
    "xtest_en=PT.transform(xtest)\n",
    "\n",
    "xtrain=pd.DataFrame(xtrain_en,columns=xtrain.columns)\n",
    "xtest=pd.DataFrame(xtest_en,columns=xtest.columns)\n",
    "\n"
   ]
  },
  {
   "cell_type": "code",
   "execution_count": 85,
   "id": "0ff85aea",
   "metadata": {},
   "outputs": [],
   "source": [
    "score_df=pd.DataFrame(columns=['Name','Acc','f1-score','roc-auc'])\n",
    "model_=dict()\n",
    "def update(Model_name,model,xtr,xts,ytr=ytrain,yts=ytest):\n",
    "    model.fit(xtr,ytr)\n",
    "    y_pred=model.predict(xts)\n",
    "    y_pred_prob=model.predict_proba(xts)[:,1]\n",
    "    acc=accuracy_score(yts,y_pred)\n",
    "    f1=f1_score(yts,y_pred)\n",
    "    roc=roc_auc_score(yts,y_pred_prob)\n",
    "    \n",
    "    global score_df\n",
    "    \n",
    "    global model_\n",
    "    score_df=score_df.append({'Name':Model_name,\"Acc\":acc,\"f1-score\":f1,'roc-auc':roc},ignore_index=True)\n",
    "    \n",
    "    report=classification_report(yts,y_pred)\n",
    "    print(report)\n",
    "    \n",
    "    model_[Model_name]=model\n",
    "    return score_df\n",
    "\n",
    "    \n",
    "    "
   ]
  },
  {
   "cell_type": "code",
   "execution_count": null,
   "id": "9acfb9b9",
   "metadata": {},
   "outputs": [],
   "source": [
    "# Random Forest"
   ]
  },
  {
   "cell_type": "code",
   "execution_count": 41,
   "id": "c986d81f",
   "metadata": {},
   "outputs": [
    {
     "data": {
      "text/plain": [
       "{'n_estimators': 90}"
      ]
     },
     "execution_count": 41,
     "metadata": {},
     "output_type": "execute_result"
    }
   ],
   "source": [
    "\n",
    "param_ = {'n_estimators':np.arange(30,200,30)}\n",
    "rf_grid=GridSearchCV(estimator=RandomForestClassifier(),param_grid=param_,cv=3,scoring='f1')\n",
    "\n",
    "rf_grid.fit(xtrain,ytrain)\n",
    "rf_grid.best_params_"
   ]
  },
  {
   "cell_type": "code",
   "execution_count": 86,
   "id": "f992c54e",
   "metadata": {},
   "outputs": [
    {
     "name": "stdout",
     "output_type": "stream",
     "text": [
      "              precision    recall  f1-score   support\n",
      "\n",
      "           0       0.84      0.94      0.89      5830\n",
      "           1       0.65      0.36      0.47      1670\n",
      "\n",
      "    accuracy                           0.82      7500\n",
      "   macro avg       0.75      0.65      0.68      7500\n",
      "weighted avg       0.80      0.82      0.79      7500\n",
      "\n"
     ]
    },
    {
     "data": {
      "text/html": [
       "<div>\n",
       "<style scoped>\n",
       "    .dataframe tbody tr th:only-of-type {\n",
       "        vertical-align: middle;\n",
       "    }\n",
       "\n",
       "    .dataframe tbody tr th {\n",
       "        vertical-align: top;\n",
       "    }\n",
       "\n",
       "    .dataframe thead th {\n",
       "        text-align: right;\n",
       "    }\n",
       "</style>\n",
       "<table border=\"1\" class=\"dataframe\">\n",
       "  <thead>\n",
       "    <tr style=\"text-align: right;\">\n",
       "      <th></th>\n",
       "      <th>Name</th>\n",
       "      <th>Acc</th>\n",
       "      <th>f1-score</th>\n",
       "      <th>roc-auc</th>\n",
       "    </tr>\n",
       "  </thead>\n",
       "  <tbody>\n",
       "    <tr>\n",
       "      <th>0</th>\n",
       "      <td>Random_Forest</td>\n",
       "      <td>0.8152</td>\n",
       "      <td>0.466923</td>\n",
       "      <td>0.761342</td>\n",
       "    </tr>\n",
       "  </tbody>\n",
       "</table>\n",
       "</div>"
      ],
      "text/plain": [
       "            Name     Acc  f1-score   roc-auc\n",
       "0  Random_Forest  0.8152  0.466923  0.761342"
      ]
     },
     "execution_count": 86,
     "metadata": {},
     "output_type": "execute_result"
    }
   ],
   "source": [
    "models_=list()\n",
    "rf_best=RandomForestClassifier(n_estimators=90)\n",
    "update('Random_Forest',rf_best,xtrain,xtest)\n"
   ]
  },
  {
   "cell_type": "code",
   "execution_count": 56,
   "id": "9716ca6d",
   "metadata": {},
   "outputs": [
    {
     "data": {
      "text/plain": [
       "{'learning_rate': 0.8000000000000003}"
      ]
     },
     "execution_count": 56,
     "metadata": {},
     "output_type": "execute_result"
    }
   ],
   "source": [
    "param_ = {'learning_rate':np.arange(0.5,1,0.05)}\n",
    "ab_grid=GridSearchCV(estimator=AdaBoostClassifier(random_state=10),param_grid=param_,cv=3,scoring='f1')\n",
    "\n",
    "ab_grid.fit(xtrain,ytrain)\n",
    "ab_grid.best_params_"
   ]
  },
  {
   "cell_type": "code",
   "execution_count": 87,
   "id": "42e1df47",
   "metadata": {},
   "outputs": [
    {
     "name": "stdout",
     "output_type": "stream",
     "text": [
      "              precision    recall  f1-score   support\n",
      "\n",
      "           0       0.83      0.96      0.89      5830\n",
      "           1       0.70      0.33      0.45      1670\n",
      "\n",
      "    accuracy                           0.82      7500\n",
      "   macro avg       0.77      0.65      0.67      7500\n",
      "weighted avg       0.80      0.82      0.79      7500\n",
      "\n"
     ]
    },
    {
     "data": {
      "text/html": [
       "<div>\n",
       "<style scoped>\n",
       "    .dataframe tbody tr th:only-of-type {\n",
       "        vertical-align: middle;\n",
       "    }\n",
       "\n",
       "    .dataframe tbody tr th {\n",
       "        vertical-align: top;\n",
       "    }\n",
       "\n",
       "    .dataframe thead th {\n",
       "        text-align: right;\n",
       "    }\n",
       "</style>\n",
       "<table border=\"1\" class=\"dataframe\">\n",
       "  <thead>\n",
       "    <tr style=\"text-align: right;\">\n",
       "      <th></th>\n",
       "      <th>Name</th>\n",
       "      <th>Acc</th>\n",
       "      <th>f1-score</th>\n",
       "      <th>roc-auc</th>\n",
       "    </tr>\n",
       "  </thead>\n",
       "  <tbody>\n",
       "    <tr>\n",
       "      <th>0</th>\n",
       "      <td>Random_Forest</td>\n",
       "      <td>0.8152</td>\n",
       "      <td>0.466923</td>\n",
       "      <td>0.761342</td>\n",
       "    </tr>\n",
       "    <tr>\n",
       "      <th>1</th>\n",
       "      <td>Adaboost</td>\n",
       "      <td>0.8200</td>\n",
       "      <td>0.449429</td>\n",
       "      <td>0.780157</td>\n",
       "    </tr>\n",
       "  </tbody>\n",
       "</table>\n",
       "</div>"
      ],
      "text/plain": [
       "            Name     Acc  f1-score   roc-auc\n",
       "0  Random_Forest  0.8152  0.466923  0.761342\n",
       "1       Adaboost  0.8200  0.449429  0.780157"
      ]
     },
     "execution_count": 87,
     "metadata": {},
     "output_type": "execute_result"
    }
   ],
   "source": [
    "ab_best=AdaBoostClassifier(learning_rate=0.8,random_state=10)\n",
    "update('Adaboost',ab_best,xtrain,xtest)"
   ]
  },
  {
   "cell_type": "code",
   "execution_count": 62,
   "id": "9e7c0e92",
   "metadata": {},
   "outputs": [
    {
     "data": {
      "text/plain": [
       "{'learning_rate': 0.55}"
      ]
     },
     "execution_count": 62,
     "metadata": {},
     "output_type": "execute_result"
    }
   ],
   "source": [
    "param_ = {'learning_rate':np.arange(0.5,1,0.05)}\n",
    "gb_grid=GridSearchCV(estimator=GradientBoostingClassifier(random_state=10),param_grid=param_,cv=3,scoring='f1')\n",
    "\n",
    "gb_grid.fit(xtrain,ytrain)\n",
    "gb_grid.best_params_"
   ]
  },
  {
   "cell_type": "code",
   "execution_count": 88,
   "id": "1dd8b03d",
   "metadata": {},
   "outputs": [
    {
     "name": "stdout",
     "output_type": "stream",
     "text": [
      "              precision    recall  f1-score   support\n",
      "\n",
      "           0       0.84      0.94      0.89      5830\n",
      "           1       0.63      0.37      0.46      1670\n",
      "\n",
      "    accuracy                           0.81      7500\n",
      "   macro avg       0.73      0.65      0.67      7500\n",
      "weighted avg       0.79      0.81      0.79      7500\n",
      "\n"
     ]
    },
    {
     "data": {
      "text/html": [
       "<div>\n",
       "<style scoped>\n",
       "    .dataframe tbody tr th:only-of-type {\n",
       "        vertical-align: middle;\n",
       "    }\n",
       "\n",
       "    .dataframe tbody tr th {\n",
       "        vertical-align: top;\n",
       "    }\n",
       "\n",
       "    .dataframe thead th {\n",
       "        text-align: right;\n",
       "    }\n",
       "</style>\n",
       "<table border=\"1\" class=\"dataframe\">\n",
       "  <thead>\n",
       "    <tr style=\"text-align: right;\">\n",
       "      <th></th>\n",
       "      <th>Name</th>\n",
       "      <th>Acc</th>\n",
       "      <th>f1-score</th>\n",
       "      <th>roc-auc</th>\n",
       "    </tr>\n",
       "  </thead>\n",
       "  <tbody>\n",
       "    <tr>\n",
       "      <th>0</th>\n",
       "      <td>Random_Forest</td>\n",
       "      <td>0.8152</td>\n",
       "      <td>0.466923</td>\n",
       "      <td>0.761342</td>\n",
       "    </tr>\n",
       "    <tr>\n",
       "      <th>1</th>\n",
       "      <td>Adaboost</td>\n",
       "      <td>0.8200</td>\n",
       "      <td>0.449429</td>\n",
       "      <td>0.780157</td>\n",
       "    </tr>\n",
       "    <tr>\n",
       "      <th>2</th>\n",
       "      <td>GradientBoost</td>\n",
       "      <td>0.8112</td>\n",
       "      <td>0.464448</td>\n",
       "      <td>0.770851</td>\n",
       "    </tr>\n",
       "  </tbody>\n",
       "</table>\n",
       "</div>"
      ],
      "text/plain": [
       "            Name     Acc  f1-score   roc-auc\n",
       "0  Random_Forest  0.8152  0.466923  0.761342\n",
       "1       Adaboost  0.8200  0.449429  0.780157\n",
       "2  GradientBoost  0.8112  0.464448  0.770851"
      ]
     },
     "execution_count": 88,
     "metadata": {},
     "output_type": "execute_result"
    }
   ],
   "source": [
    "gb_best=GradientBoostingClassifier(learning_rate=0.55,random_state=10)\n",
    "update('GradientBoost',gb_best,xtrain,xtest)"
   ]
  },
  {
   "cell_type": "code",
   "execution_count": 16,
   "id": "68e9a9c9",
   "metadata": {},
   "outputs": [],
   "source": [
    "# As we can see there is improvement over recall value"
   ]
  },
  {
   "cell_type": "code",
   "execution_count": 19,
   "id": "17652189",
   "metadata": {},
   "outputs": [],
   "source": [
    "import lightgbm \n",
    "from lightgbm import LGBMClassifier"
   ]
  },
  {
   "cell_type": "code",
   "execution_count": 89,
   "id": "caa04418",
   "metadata": {},
   "outputs": [
    {
     "name": "stdout",
     "output_type": "stream",
     "text": [
      "              precision    recall  f1-score   support\n",
      "\n",
      "           0       0.84      0.95      0.89      5830\n",
      "           1       0.70      0.37      0.49      1670\n",
      "\n",
      "    accuracy                           0.82      7500\n",
      "   macro avg       0.77      0.66      0.69      7500\n",
      "weighted avg       0.81      0.82      0.80      7500\n",
      "\n"
     ]
    },
    {
     "data": {
      "text/html": [
       "<div>\n",
       "<style scoped>\n",
       "    .dataframe tbody tr th:only-of-type {\n",
       "        vertical-align: middle;\n",
       "    }\n",
       "\n",
       "    .dataframe tbody tr th {\n",
       "        vertical-align: top;\n",
       "    }\n",
       "\n",
       "    .dataframe thead th {\n",
       "        text-align: right;\n",
       "    }\n",
       "</style>\n",
       "<table border=\"1\" class=\"dataframe\">\n",
       "  <thead>\n",
       "    <tr style=\"text-align: right;\">\n",
       "      <th></th>\n",
       "      <th>Name</th>\n",
       "      <th>Acc</th>\n",
       "      <th>f1-score</th>\n",
       "      <th>roc-auc</th>\n",
       "    </tr>\n",
       "  </thead>\n",
       "  <tbody>\n",
       "    <tr>\n",
       "      <th>0</th>\n",
       "      <td>Random_Forest</td>\n",
       "      <td>0.8152</td>\n",
       "      <td>0.466923</td>\n",
       "      <td>0.761342</td>\n",
       "    </tr>\n",
       "    <tr>\n",
       "      <th>1</th>\n",
       "      <td>Adaboost</td>\n",
       "      <td>0.8200</td>\n",
       "      <td>0.449429</td>\n",
       "      <td>0.780157</td>\n",
       "    </tr>\n",
       "    <tr>\n",
       "      <th>2</th>\n",
       "      <td>GradientBoost</td>\n",
       "      <td>0.8112</td>\n",
       "      <td>0.464448</td>\n",
       "      <td>0.770851</td>\n",
       "    </tr>\n",
       "    <tr>\n",
       "      <th>3</th>\n",
       "      <td>LGBM_Basic</td>\n",
       "      <td>0.8248</td>\n",
       "      <td>0.485915</td>\n",
       "      <td>0.782189</td>\n",
       "    </tr>\n",
       "  </tbody>\n",
       "</table>\n",
       "</div>"
      ],
      "text/plain": [
       "            Name     Acc  f1-score   roc-auc\n",
       "0  Random_Forest  0.8152  0.466923  0.761342\n",
       "1       Adaboost  0.8200  0.449429  0.780157\n",
       "2  GradientBoost  0.8112  0.464448  0.770851\n",
       "3     LGBM_Basic  0.8248  0.485915  0.782189"
      ]
     },
     "execution_count": 89,
     "metadata": {},
     "output_type": "execute_result"
    }
   ],
   "source": [
    "#Lets fit a simple LGBM model\n",
    "lgb_basic=LGBMClassifier(random_state=10)\n",
    "update('LGBM_Basic',lgb_basic,xtrain,xtest)"
   ]
  },
  {
   "cell_type": "code",
   "execution_count": 34,
   "id": "2b5ff32c",
   "metadata": {},
   "outputs": [],
   "source": [
    "#Though accuracy has increased giving an increases in recall value\n",
    "#Lets perform a smote as recall value for minority class is saturated at 0.37"
   ]
  },
  {
   "cell_type": "code",
   "execution_count": 45,
   "id": "d0deee44",
   "metadata": {},
   "outputs": [
    {
     "data": {
      "text/plain": [
       "(28, 22500)"
      ]
     },
     "execution_count": 45,
     "metadata": {},
     "output_type": "execute_result"
    }
   ],
   "source": []
  },
  {
   "cell_type": "code",
   "execution_count": 46,
   "id": "8251c356",
   "metadata": {},
   "outputs": [
    {
     "data": {
      "text/plain": [
       "((35068, 28), (35068,))"
      ]
     },
     "execution_count": 46,
     "metadata": {},
     "output_type": "execute_result"
    }
   ],
   "source": [
    "from imblearn.over_sampling import SMOTE\n",
    "os=SMOTE(random_state=10)\n",
    "xtrain_os,ytrain_os=os.fit_resample(xtrain,ytrain)\n",
    "\n",
    "xtrain_os.shape,ytrain_os.shape"
   ]
  },
  {
   "cell_type": "code",
   "execution_count": 90,
   "id": "279be636",
   "metadata": {},
   "outputs": [
    {
     "name": "stdout",
     "output_type": "stream",
     "text": [
      "              precision    recall  f1-score   support\n",
      "\n",
      "           0       0.85      0.93      0.89      5830\n",
      "           1       0.63      0.41      0.50      1670\n",
      "\n",
      "    accuracy                           0.82      7500\n",
      "   macro avg       0.74      0.67      0.69      7500\n",
      "weighted avg       0.80      0.82      0.80      7500\n",
      "\n"
     ]
    },
    {
     "data": {
      "text/html": [
       "<div>\n",
       "<style scoped>\n",
       "    .dataframe tbody tr th:only-of-type {\n",
       "        vertical-align: middle;\n",
       "    }\n",
       "\n",
       "    .dataframe tbody tr th {\n",
       "        vertical-align: top;\n",
       "    }\n",
       "\n",
       "    .dataframe thead th {\n",
       "        text-align: right;\n",
       "    }\n",
       "</style>\n",
       "<table border=\"1\" class=\"dataframe\">\n",
       "  <thead>\n",
       "    <tr style=\"text-align: right;\">\n",
       "      <th></th>\n",
       "      <th>Name</th>\n",
       "      <th>Acc</th>\n",
       "      <th>f1-score</th>\n",
       "      <th>roc-auc</th>\n",
       "    </tr>\n",
       "  </thead>\n",
       "  <tbody>\n",
       "    <tr>\n",
       "      <th>0</th>\n",
       "      <td>Random_Forest</td>\n",
       "      <td>0.8152</td>\n",
       "      <td>0.466923</td>\n",
       "      <td>0.761342</td>\n",
       "    </tr>\n",
       "    <tr>\n",
       "      <th>1</th>\n",
       "      <td>Adaboost</td>\n",
       "      <td>0.8200</td>\n",
       "      <td>0.449429</td>\n",
       "      <td>0.780157</td>\n",
       "    </tr>\n",
       "    <tr>\n",
       "      <th>2</th>\n",
       "      <td>GradientBoost</td>\n",
       "      <td>0.8112</td>\n",
       "      <td>0.464448</td>\n",
       "      <td>0.770851</td>\n",
       "    </tr>\n",
       "    <tr>\n",
       "      <th>3</th>\n",
       "      <td>LGBM_Basic</td>\n",
       "      <td>0.8248</td>\n",
       "      <td>0.485915</td>\n",
       "      <td>0.782189</td>\n",
       "    </tr>\n",
       "    <tr>\n",
       "      <th>4</th>\n",
       "      <td>LGBM_Smote_Basic</td>\n",
       "      <td>0.8164</td>\n",
       "      <td>0.500906</td>\n",
       "      <td>0.779660</td>\n",
       "    </tr>\n",
       "  </tbody>\n",
       "</table>\n",
       "</div>"
      ],
      "text/plain": [
       "               Name     Acc  f1-score   roc-auc\n",
       "0     Random_Forest  0.8152  0.466923  0.761342\n",
       "1          Adaboost  0.8200  0.449429  0.780157\n",
       "2     GradientBoost  0.8112  0.464448  0.770851\n",
       "3        LGBM_Basic  0.8248  0.485915  0.782189\n",
       "4  LGBM_Smote_Basic  0.8164  0.500906  0.779660"
      ]
     },
     "execution_count": 90,
     "metadata": {},
     "output_type": "execute_result"
    }
   ],
   "source": [
    "lgb_smote_basic=LGBMClassifier(random_state=10)\n",
    "update('LGBM_Smote_Basic',lgb_smote_basic,xtrain_os,xtest,ytrain_os,ytest)"
   ]
  },
  {
   "cell_type": "code",
   "execution_count": null,
   "id": "3e7dc44b",
   "metadata": {},
   "outputs": [],
   "source": [
    "#It increases the recall value with the cost of precision.\n",
    "#Lets try different techinique of smote with hyperparameter tuning"
   ]
  },
  {
   "cell_type": "code",
   "execution_count": 19,
   "id": "bf4e6bbf",
   "metadata": {},
   "outputs": [
    {
     "data": {
      "text/plain": [
       "{'learning_rate': 0.14,\n",
       " 'max_depth': 11,\n",
       " 'n_estimators': 100,\n",
       " 'reg_alpha': 4,\n",
       " 'reg_lambda': 55}"
      ]
     },
     "execution_count": 19,
     "metadata": {},
     "output_type": "execute_result"
    }
   ],
   "source": [
    "\n",
    "param=[{'learning_rate':np.arange(0.1,0.22,0.02),\n",
    "        'n_estimators':np.arange(50,200,50),'reg_alpha':np.arange(4,7,1),\n",
    "       'reg_lambda':np.arange(50,61,5),'max_depth':[10,11,12]}]\n",
    "\n",
    "\n",
    "\n",
    "lgb_smote_grid=GridSearchCV(estimator=LGBMClassifier(random_state=10),param_grid=param,cv=3,scoring='recall',n_jobs=-1)\n",
    "\n",
    "lgb_smote_grid.fit(xtrain_os,ytrain_os)\n",
    "\n",
    "lgb_smote_grid.best_params_"
   ]
  },
  {
   "cell_type": "code",
   "execution_count": 91,
   "id": "58973521",
   "metadata": {},
   "outputs": [
    {
     "name": "stdout",
     "output_type": "stream",
     "text": [
      "              precision    recall  f1-score   support\n",
      "\n",
      "           0       0.85      0.92      0.88      5830\n",
      "           1       0.61      0.42      0.50      1670\n",
      "\n",
      "    accuracy                           0.81      7500\n",
      "   macro avg       0.73      0.67      0.69      7500\n",
      "weighted avg       0.79      0.81      0.80      7500\n",
      "\n"
     ]
    },
    {
     "data": {
      "text/html": [
       "<div>\n",
       "<style scoped>\n",
       "    .dataframe tbody tr th:only-of-type {\n",
       "        vertical-align: middle;\n",
       "    }\n",
       "\n",
       "    .dataframe tbody tr th {\n",
       "        vertical-align: top;\n",
       "    }\n",
       "\n",
       "    .dataframe thead th {\n",
       "        text-align: right;\n",
       "    }\n",
       "</style>\n",
       "<table border=\"1\" class=\"dataframe\">\n",
       "  <thead>\n",
       "    <tr style=\"text-align: right;\">\n",
       "      <th></th>\n",
       "      <th>Name</th>\n",
       "      <th>Acc</th>\n",
       "      <th>f1-score</th>\n",
       "      <th>roc-auc</th>\n",
       "    </tr>\n",
       "  </thead>\n",
       "  <tbody>\n",
       "    <tr>\n",
       "      <th>0</th>\n",
       "      <td>Random_Forest</td>\n",
       "      <td>0.815200</td>\n",
       "      <td>0.466923</td>\n",
       "      <td>0.761342</td>\n",
       "    </tr>\n",
       "    <tr>\n",
       "      <th>1</th>\n",
       "      <td>Adaboost</td>\n",
       "      <td>0.820000</td>\n",
       "      <td>0.449429</td>\n",
       "      <td>0.780157</td>\n",
       "    </tr>\n",
       "    <tr>\n",
       "      <th>2</th>\n",
       "      <td>GradientBoost</td>\n",
       "      <td>0.811200</td>\n",
       "      <td>0.464448</td>\n",
       "      <td>0.770851</td>\n",
       "    </tr>\n",
       "    <tr>\n",
       "      <th>3</th>\n",
       "      <td>LGBM_Basic</td>\n",
       "      <td>0.824800</td>\n",
       "      <td>0.485915</td>\n",
       "      <td>0.782189</td>\n",
       "    </tr>\n",
       "    <tr>\n",
       "      <th>4</th>\n",
       "      <td>LGBM_Smote_Basic</td>\n",
       "      <td>0.816400</td>\n",
       "      <td>0.500906</td>\n",
       "      <td>0.779660</td>\n",
       "    </tr>\n",
       "    <tr>\n",
       "      <th>5</th>\n",
       "      <td>LGBM_smote_gbdt</td>\n",
       "      <td>0.810133</td>\n",
       "      <td>0.497530</td>\n",
       "      <td>0.775639</td>\n",
       "    </tr>\n",
       "  </tbody>\n",
       "</table>\n",
       "</div>"
      ],
      "text/plain": [
       "               Name       Acc  f1-score   roc-auc\n",
       "0     Random_Forest  0.815200  0.466923  0.761342\n",
       "1          Adaboost  0.820000  0.449429  0.780157\n",
       "2     GradientBoost  0.811200  0.464448  0.770851\n",
       "3        LGBM_Basic  0.824800  0.485915  0.782189\n",
       "4  LGBM_Smote_Basic  0.816400  0.500906  0.779660\n",
       "5   LGBM_smote_gbdt  0.810133  0.497530  0.775639"
      ]
     },
     "execution_count": 91,
     "metadata": {},
     "output_type": "execute_result"
    }
   ],
   "source": [
    "lgb=LGBMClassifier(boosting_type='gbdt',learning_rate=0.14,n_estimators=100,reg_alpha=4,\n",
    "                   reg_lambda=55,max_depth=11,random_state=10)\n",
    "update('LGBM_smote_gbdt',lgb,xtrain_os,xtest,ytrain_os,ytest)"
   ]
  },
  {
   "cell_type": "code",
   "execution_count": 92,
   "id": "c3786c74",
   "metadata": {},
   "outputs": [
    {
     "name": "stdout",
     "output_type": "stream",
     "text": [
      "              precision    recall  f1-score   support\n",
      "\n",
      "           0       0.85      0.91      0.88      5830\n",
      "           1       0.58      0.45      0.51      1670\n",
      "\n",
      "    accuracy                           0.81      7500\n",
      "   macro avg       0.72      0.68      0.69      7500\n",
      "weighted avg       0.79      0.81      0.80      7500\n",
      "\n"
     ]
    },
    {
     "data": {
      "text/html": [
       "<div>\n",
       "<style scoped>\n",
       "    .dataframe tbody tr th:only-of-type {\n",
       "        vertical-align: middle;\n",
       "    }\n",
       "\n",
       "    .dataframe tbody tr th {\n",
       "        vertical-align: top;\n",
       "    }\n",
       "\n",
       "    .dataframe thead th {\n",
       "        text-align: right;\n",
       "    }\n",
       "</style>\n",
       "<table border=\"1\" class=\"dataframe\">\n",
       "  <thead>\n",
       "    <tr style=\"text-align: right;\">\n",
       "      <th></th>\n",
       "      <th>Name</th>\n",
       "      <th>Acc</th>\n",
       "      <th>f1-score</th>\n",
       "      <th>roc-auc</th>\n",
       "    </tr>\n",
       "  </thead>\n",
       "  <tbody>\n",
       "    <tr>\n",
       "      <th>0</th>\n",
       "      <td>Random_Forest</td>\n",
       "      <td>0.815200</td>\n",
       "      <td>0.466923</td>\n",
       "      <td>0.761342</td>\n",
       "    </tr>\n",
       "    <tr>\n",
       "      <th>1</th>\n",
       "      <td>Adaboost</td>\n",
       "      <td>0.820000</td>\n",
       "      <td>0.449429</td>\n",
       "      <td>0.780157</td>\n",
       "    </tr>\n",
       "    <tr>\n",
       "      <th>2</th>\n",
       "      <td>GradientBoost</td>\n",
       "      <td>0.811200</td>\n",
       "      <td>0.464448</td>\n",
       "      <td>0.770851</td>\n",
       "    </tr>\n",
       "    <tr>\n",
       "      <th>3</th>\n",
       "      <td>LGBM_Basic</td>\n",
       "      <td>0.824800</td>\n",
       "      <td>0.485915</td>\n",
       "      <td>0.782189</td>\n",
       "    </tr>\n",
       "    <tr>\n",
       "      <th>4</th>\n",
       "      <td>LGBM_Smote_Basic</td>\n",
       "      <td>0.816400</td>\n",
       "      <td>0.500906</td>\n",
       "      <td>0.779660</td>\n",
       "    </tr>\n",
       "    <tr>\n",
       "      <th>5</th>\n",
       "      <td>LGBM_smote_gbdt</td>\n",
       "      <td>0.810133</td>\n",
       "      <td>0.497530</td>\n",
       "      <td>0.775639</td>\n",
       "    </tr>\n",
       "    <tr>\n",
       "      <th>6</th>\n",
       "      <td>LGBM_smote_goss</td>\n",
       "      <td>0.805200</td>\n",
       "      <td>0.509567</td>\n",
       "      <td>0.768722</td>\n",
       "    </tr>\n",
       "  </tbody>\n",
       "</table>\n",
       "</div>"
      ],
      "text/plain": [
       "               Name       Acc  f1-score   roc-auc\n",
       "0     Random_Forest  0.815200  0.466923  0.761342\n",
       "1          Adaboost  0.820000  0.449429  0.780157\n",
       "2     GradientBoost  0.811200  0.464448  0.770851\n",
       "3        LGBM_Basic  0.824800  0.485915  0.782189\n",
       "4  LGBM_Smote_Basic  0.816400  0.500906  0.779660\n",
       "5   LGBM_smote_gbdt  0.810133  0.497530  0.775639\n",
       "6   LGBM_smote_goss  0.805200  0.509567  0.768722"
      ]
     },
     "execution_count": 92,
     "metadata": {},
     "output_type": "execute_result"
    }
   ],
   "source": [
    "lgb=LGBMClassifier(boosting_type='goss',learning_rate=0.14,n_estimators=100,reg_alpha=4,\n",
    "                   reg_lambda=55,max_depth=11,random_state=10)\n",
    "update('LGBM_smote_goss',lgb,xtrain_os,xtest,ytrain_os,ytest)"
   ]
  },
  {
   "cell_type": "code",
   "execution_count": 93,
   "id": "fdea8c04",
   "metadata": {},
   "outputs": [
    {
     "name": "stdout",
     "output_type": "stream",
     "text": [
      "              precision    recall  f1-score   support\n",
      "\n",
      "           0       0.86      0.89      0.87      5830\n",
      "           1       0.56      0.50      0.53      1670\n",
      "\n",
      "    accuracy                           0.80      7500\n",
      "   macro avg       0.71      0.69      0.70      7500\n",
      "weighted avg       0.79      0.80      0.80      7500\n",
      "\n"
     ]
    },
    {
     "data": {
      "text/html": [
       "<div>\n",
       "<style scoped>\n",
       "    .dataframe tbody tr th:only-of-type {\n",
       "        vertical-align: middle;\n",
       "    }\n",
       "\n",
       "    .dataframe tbody tr th {\n",
       "        vertical-align: top;\n",
       "    }\n",
       "\n",
       "    .dataframe thead th {\n",
       "        text-align: right;\n",
       "    }\n",
       "</style>\n",
       "<table border=\"1\" class=\"dataframe\">\n",
       "  <thead>\n",
       "    <tr style=\"text-align: right;\">\n",
       "      <th></th>\n",
       "      <th>Name</th>\n",
       "      <th>Acc</th>\n",
       "      <th>f1-score</th>\n",
       "      <th>roc-auc</th>\n",
       "    </tr>\n",
       "  </thead>\n",
       "  <tbody>\n",
       "    <tr>\n",
       "      <th>0</th>\n",
       "      <td>Random_Forest</td>\n",
       "      <td>0.815200</td>\n",
       "      <td>0.466923</td>\n",
       "      <td>0.761342</td>\n",
       "    </tr>\n",
       "    <tr>\n",
       "      <th>1</th>\n",
       "      <td>Adaboost</td>\n",
       "      <td>0.820000</td>\n",
       "      <td>0.449429</td>\n",
       "      <td>0.780157</td>\n",
       "    </tr>\n",
       "    <tr>\n",
       "      <th>2</th>\n",
       "      <td>GradientBoost</td>\n",
       "      <td>0.811200</td>\n",
       "      <td>0.464448</td>\n",
       "      <td>0.770851</td>\n",
       "    </tr>\n",
       "    <tr>\n",
       "      <th>3</th>\n",
       "      <td>LGBM_Basic</td>\n",
       "      <td>0.824800</td>\n",
       "      <td>0.485915</td>\n",
       "      <td>0.782189</td>\n",
       "    </tr>\n",
       "    <tr>\n",
       "      <th>4</th>\n",
       "      <td>LGBM_Smote_Basic</td>\n",
       "      <td>0.816400</td>\n",
       "      <td>0.500906</td>\n",
       "      <td>0.779660</td>\n",
       "    </tr>\n",
       "    <tr>\n",
       "      <th>5</th>\n",
       "      <td>LGBM_smote_gbdt</td>\n",
       "      <td>0.810133</td>\n",
       "      <td>0.497530</td>\n",
       "      <td>0.775639</td>\n",
       "    </tr>\n",
       "    <tr>\n",
       "      <th>6</th>\n",
       "      <td>LGBM_smote_goss</td>\n",
       "      <td>0.805200</td>\n",
       "      <td>0.509567</td>\n",
       "      <td>0.768722</td>\n",
       "    </tr>\n",
       "    <tr>\n",
       "      <th>7</th>\n",
       "      <td>LGBM_smote_dart</td>\n",
       "      <td>0.800933</td>\n",
       "      <td>0.529764</td>\n",
       "      <td>0.781955</td>\n",
       "    </tr>\n",
       "  </tbody>\n",
       "</table>\n",
       "</div>"
      ],
      "text/plain": [
       "               Name       Acc  f1-score   roc-auc\n",
       "0     Random_Forest  0.815200  0.466923  0.761342\n",
       "1          Adaboost  0.820000  0.449429  0.780157\n",
       "2     GradientBoost  0.811200  0.464448  0.770851\n",
       "3        LGBM_Basic  0.824800  0.485915  0.782189\n",
       "4  LGBM_Smote_Basic  0.816400  0.500906  0.779660\n",
       "5   LGBM_smote_gbdt  0.810133  0.497530  0.775639\n",
       "6   LGBM_smote_goss  0.805200  0.509567  0.768722\n",
       "7   LGBM_smote_dart  0.800933  0.529764  0.781955"
      ]
     },
     "execution_count": 93,
     "metadata": {},
     "output_type": "execute_result"
    }
   ],
   "source": [
    "lgb_smote_dart=LGBMClassifier(boosting_type='dart',learning_rate=0.14,n_estimators=100,reg_alpha=4,\n",
    "                   reg_lambda=55,max_depth=11,random_state=10)\n",
    "update('LGBM_smote_dart',lgb_smote_dart,xtrain_os,xtest,ytrain_os,ytest)"
   ]
  },
  {
   "cell_type": "code",
   "execution_count": 29,
   "id": "0c8fd71a",
   "metadata": {},
   "outputs": [],
   "source": [
    "## Dart algorithm is giving best recall as well as best f1_score.\n",
    "#Lets try different smote technique"
   ]
  },
  {
   "cell_type": "code",
   "execution_count": null,
   "id": "38d581a3",
   "metadata": {},
   "outputs": [],
   "source": [
    "#ADASYN over_sampling"
   ]
  },
  {
   "cell_type": "code",
   "execution_count": 53,
   "id": "b26c2ef7",
   "metadata": {},
   "outputs": [
    {
     "data": {
      "text/plain": [
       "(0    17534\n",
       " 1     4966\n",
       " Name: Default, dtype: int64,\n",
       " 0    17534\n",
       " 1    17145\n",
       " Name: Default, dtype: int64)"
      ]
     },
     "execution_count": 53,
     "metadata": {},
     "output_type": "execute_result"
    }
   ],
   "source": [
    "from imblearn.over_sampling import ADASYN\n",
    "ad=ADASYN(random_state=10)\n",
    "\n",
    "xtrain_ad,ytrain_ad=ad.fit_resample(xtrain,ytrain)\n",
    "ytrain.value_counts(),ytrain_ad.value_counts()"
   ]
  },
  {
   "cell_type": "code",
   "execution_count": 31,
   "id": "23069864",
   "metadata": {},
   "outputs": [
    {
     "data": {
      "text/plain": [
       "{'learning_rate': 0.2799999999999999,\n",
       " 'max_depth': 8,\n",
       " 'n_estimators': 100,\n",
       " 'reg_alpha': 8,\n",
       " 'reg_lambda': 45}"
      ]
     },
     "execution_count": 31,
     "metadata": {},
     "output_type": "execute_result"
    }
   ],
   "source": [
    "param=[{'learning_rate':np.arange(0.18,0.29,0.02),\n",
    "        'n_estimators':np.arange(50,200,50),'reg_alpha':np.arange(8,12,1),\n",
    "       'reg_lambda':np.arange(45,56,5),'max_depth':[7,8,9]}]\n",
    "\n",
    "\n",
    "\n",
    "lgb_ada_grid=GridSearchCV(estimator=LGBMClassifier(boosting_type='dart',random_state=10),param_grid=param,cv=3,\n",
    "                          scoring='recall',n_jobs=-1)\n",
    "\n",
    "lgb_ada_grid.fit(xtrain_ad,ytrain_ad)\n",
    "\n",
    "lgb_ada_grid.best_params_"
   ]
  },
  {
   "cell_type": "code",
   "execution_count": 94,
   "id": "320e4e0b",
   "metadata": {},
   "outputs": [
    {
     "name": "stdout",
     "output_type": "stream",
     "text": [
      "              precision    recall  f1-score   support\n",
      "\n",
      "           0       0.85      0.91      0.88      5830\n",
      "           1       0.60      0.45      0.52      1670\n",
      "\n",
      "    accuracy                           0.81      7500\n",
      "   macro avg       0.73      0.68      0.70      7500\n",
      "weighted avg       0.80      0.81      0.80      7500\n",
      "\n"
     ]
    },
    {
     "data": {
      "text/html": [
       "<div>\n",
       "<style scoped>\n",
       "    .dataframe tbody tr th:only-of-type {\n",
       "        vertical-align: middle;\n",
       "    }\n",
       "\n",
       "    .dataframe tbody tr th {\n",
       "        vertical-align: top;\n",
       "    }\n",
       "\n",
       "    .dataframe thead th {\n",
       "        text-align: right;\n",
       "    }\n",
       "</style>\n",
       "<table border=\"1\" class=\"dataframe\">\n",
       "  <thead>\n",
       "    <tr style=\"text-align: right;\">\n",
       "      <th></th>\n",
       "      <th>Name</th>\n",
       "      <th>Acc</th>\n",
       "      <th>f1-score</th>\n",
       "      <th>roc-auc</th>\n",
       "    </tr>\n",
       "  </thead>\n",
       "  <tbody>\n",
       "    <tr>\n",
       "      <th>0</th>\n",
       "      <td>Random_Forest</td>\n",
       "      <td>0.815200</td>\n",
       "      <td>0.466923</td>\n",
       "      <td>0.761342</td>\n",
       "    </tr>\n",
       "    <tr>\n",
       "      <th>1</th>\n",
       "      <td>Adaboost</td>\n",
       "      <td>0.820000</td>\n",
       "      <td>0.449429</td>\n",
       "      <td>0.780157</td>\n",
       "    </tr>\n",
       "    <tr>\n",
       "      <th>2</th>\n",
       "      <td>GradientBoost</td>\n",
       "      <td>0.811200</td>\n",
       "      <td>0.464448</td>\n",
       "      <td>0.770851</td>\n",
       "    </tr>\n",
       "    <tr>\n",
       "      <th>3</th>\n",
       "      <td>LGBM_Basic</td>\n",
       "      <td>0.824800</td>\n",
       "      <td>0.485915</td>\n",
       "      <td>0.782189</td>\n",
       "    </tr>\n",
       "    <tr>\n",
       "      <th>4</th>\n",
       "      <td>LGBM_Smote_Basic</td>\n",
       "      <td>0.816400</td>\n",
       "      <td>0.500906</td>\n",
       "      <td>0.779660</td>\n",
       "    </tr>\n",
       "    <tr>\n",
       "      <th>5</th>\n",
       "      <td>LGBM_smote_gbdt</td>\n",
       "      <td>0.810133</td>\n",
       "      <td>0.497530</td>\n",
       "      <td>0.775639</td>\n",
       "    </tr>\n",
       "    <tr>\n",
       "      <th>6</th>\n",
       "      <td>LGBM_smote_goss</td>\n",
       "      <td>0.805200</td>\n",
       "      <td>0.509567</td>\n",
       "      <td>0.768722</td>\n",
       "    </tr>\n",
       "    <tr>\n",
       "      <th>7</th>\n",
       "      <td>LGBM_smote_dart</td>\n",
       "      <td>0.800933</td>\n",
       "      <td>0.529764</td>\n",
       "      <td>0.781955</td>\n",
       "    </tr>\n",
       "    <tr>\n",
       "      <th>8</th>\n",
       "      <td>LGBM_adasyn_dart</td>\n",
       "      <td>0.810400</td>\n",
       "      <td>0.515997</td>\n",
       "      <td>0.772908</td>\n",
       "    </tr>\n",
       "  </tbody>\n",
       "</table>\n",
       "</div>"
      ],
      "text/plain": [
       "               Name       Acc  f1-score   roc-auc\n",
       "0     Random_Forest  0.815200  0.466923  0.761342\n",
       "1          Adaboost  0.820000  0.449429  0.780157\n",
       "2     GradientBoost  0.811200  0.464448  0.770851\n",
       "3        LGBM_Basic  0.824800  0.485915  0.782189\n",
       "4  LGBM_Smote_Basic  0.816400  0.500906  0.779660\n",
       "5   LGBM_smote_gbdt  0.810133  0.497530  0.775639\n",
       "6   LGBM_smote_goss  0.805200  0.509567  0.768722\n",
       "7   LGBM_smote_dart  0.800933  0.529764  0.781955\n",
       "8  LGBM_adasyn_dart  0.810400  0.515997  0.772908"
      ]
     },
     "execution_count": 94,
     "metadata": {},
     "output_type": "execute_result"
    }
   ],
   "source": [
    "lgb_adasyn=LGBMClassifier(boosting_type='dart',learning_rate=0.27,n_estimators=100,reg_alpha=8,\n",
    "                   reg_lambda=45,max_depth=8,random_state=10)\n",
    "update('LGBM_adasyn_dart',lgb_adasyn,xtrain_ad,xtest,ytrain_ad,ytest)"
   ]
  },
  {
   "cell_type": "code",
   "execution_count": null,
   "id": "d8869edf",
   "metadata": {},
   "outputs": [],
   "source": [
    "#Decrease in recall and alpha value."
   ]
  },
  {
   "cell_type": "code",
   "execution_count": null,
   "id": "d8658a7e",
   "metadata": {},
   "outputs": [],
   "source": [
    "# Lets use oversampling and undersampling together."
   ]
  },
  {
   "cell_type": "code",
   "execution_count": 56,
   "id": "ec900e61",
   "metadata": {},
   "outputs": [
    {
     "data": {
      "text/plain": [
       "(0    17534\n",
       " 1     4966\n",
       " Name: Default, dtype: int64,\n",
       " 0    17297\n",
       " 1    17297\n",
       " Name: Default, dtype: int64)"
      ]
     },
     "execution_count": 56,
     "metadata": {},
     "output_type": "execute_result"
    }
   ],
   "source": [
    "from imblearn.combine import SMOTETomek\n",
    "smtk=SMOTETomek(random_state=10)\n",
    "\n",
    "xtrain_tk,ytrain_tk=smtk.fit_resample(xtrain,ytrain)\n",
    "ytrain.value_counts(),ytrain_tk.value_counts()"
   ]
  },
  {
   "cell_type": "code",
   "execution_count": 41,
   "id": "3843752b",
   "metadata": {},
   "outputs": [
    {
     "data": {
      "text/plain": [
       "{'learning_rate': 0.30999999999999994,\n",
       " 'max_depth': 8,\n",
       " 'n_estimators': 100,\n",
       " 'reg_alpha': 8,\n",
       " 'reg_lambda': 95}"
      ]
     },
     "execution_count": 41,
     "metadata": {},
     "output_type": "execute_result"
    }
   ],
   "source": [
    "param=[{'learning_rate':np.arange(0.21,0.32,0.02),\n",
    "        'n_estimators':np.arange(50,200,50),'reg_alpha':np.arange(8,12,1),\n",
    "       'reg_lambda':np.arange(85,101,5),'max_depth':[6,7,8]}]\n",
    "\n",
    "\n",
    "\n",
    "lgb_tk_grid=GridSearchCV(estimator=LGBMClassifier(boosting_type='dart',random_state=10),param_grid=param,cv=3,\n",
    "                          scoring='recall',n_jobs=-1)\n",
    "\n",
    "lgb_tk_grid.fit(xtrain_tk,ytrain_tk)\n",
    "\n",
    "lgb_tk_grid.best_params_"
   ]
  },
  {
   "cell_type": "code",
   "execution_count": 95,
   "id": "c64a6d3e",
   "metadata": {},
   "outputs": [
    {
     "name": "stdout",
     "output_type": "stream",
     "text": [
      "              precision    recall  f1-score   support\n",
      "\n",
      "           0       0.86      0.90      0.88      5830\n",
      "           1       0.57      0.48      0.52      1670\n",
      "\n",
      "    accuracy                           0.80      7500\n",
      "   macro avg       0.72      0.69      0.70      7500\n",
      "weighted avg       0.79      0.80      0.80      7500\n",
      "\n"
     ]
    },
    {
     "data": {
      "text/html": [
       "<div>\n",
       "<style scoped>\n",
       "    .dataframe tbody tr th:only-of-type {\n",
       "        vertical-align: middle;\n",
       "    }\n",
       "\n",
       "    .dataframe tbody tr th {\n",
       "        vertical-align: top;\n",
       "    }\n",
       "\n",
       "    .dataframe thead th {\n",
       "        text-align: right;\n",
       "    }\n",
       "</style>\n",
       "<table border=\"1\" class=\"dataframe\">\n",
       "  <thead>\n",
       "    <tr style=\"text-align: right;\">\n",
       "      <th></th>\n",
       "      <th>Name</th>\n",
       "      <th>Acc</th>\n",
       "      <th>f1-score</th>\n",
       "      <th>roc-auc</th>\n",
       "    </tr>\n",
       "  </thead>\n",
       "  <tbody>\n",
       "    <tr>\n",
       "      <th>0</th>\n",
       "      <td>Random_Forest</td>\n",
       "      <td>0.815200</td>\n",
       "      <td>0.466923</td>\n",
       "      <td>0.761342</td>\n",
       "    </tr>\n",
       "    <tr>\n",
       "      <th>1</th>\n",
       "      <td>Adaboost</td>\n",
       "      <td>0.820000</td>\n",
       "      <td>0.449429</td>\n",
       "      <td>0.780157</td>\n",
       "    </tr>\n",
       "    <tr>\n",
       "      <th>2</th>\n",
       "      <td>GradientBoost</td>\n",
       "      <td>0.811200</td>\n",
       "      <td>0.464448</td>\n",
       "      <td>0.770851</td>\n",
       "    </tr>\n",
       "    <tr>\n",
       "      <th>3</th>\n",
       "      <td>LGBM_Basic</td>\n",
       "      <td>0.824800</td>\n",
       "      <td>0.485915</td>\n",
       "      <td>0.782189</td>\n",
       "    </tr>\n",
       "    <tr>\n",
       "      <th>4</th>\n",
       "      <td>LGBM_Smote_Basic</td>\n",
       "      <td>0.816400</td>\n",
       "      <td>0.500906</td>\n",
       "      <td>0.779660</td>\n",
       "    </tr>\n",
       "    <tr>\n",
       "      <th>5</th>\n",
       "      <td>LGBM_smote_gbdt</td>\n",
       "      <td>0.810133</td>\n",
       "      <td>0.497530</td>\n",
       "      <td>0.775639</td>\n",
       "    </tr>\n",
       "    <tr>\n",
       "      <th>6</th>\n",
       "      <td>LGBM_smote_goss</td>\n",
       "      <td>0.805200</td>\n",
       "      <td>0.509567</td>\n",
       "      <td>0.768722</td>\n",
       "    </tr>\n",
       "    <tr>\n",
       "      <th>7</th>\n",
       "      <td>LGBM_smote_dart</td>\n",
       "      <td>0.800933</td>\n",
       "      <td>0.529764</td>\n",
       "      <td>0.781955</td>\n",
       "    </tr>\n",
       "    <tr>\n",
       "      <th>8</th>\n",
       "      <td>LGBM_adasyn_dart</td>\n",
       "      <td>0.810400</td>\n",
       "      <td>0.515997</td>\n",
       "      <td>0.772908</td>\n",
       "    </tr>\n",
       "    <tr>\n",
       "      <th>9</th>\n",
       "      <td>LGBM_smote+tomek_dart</td>\n",
       "      <td>0.804667</td>\n",
       "      <td>0.521085</td>\n",
       "      <td>0.778726</td>\n",
       "    </tr>\n",
       "  </tbody>\n",
       "</table>\n",
       "</div>"
      ],
      "text/plain": [
       "                    Name       Acc  f1-score   roc-auc\n",
       "0          Random_Forest  0.815200  0.466923  0.761342\n",
       "1               Adaboost  0.820000  0.449429  0.780157\n",
       "2          GradientBoost  0.811200  0.464448  0.770851\n",
       "3             LGBM_Basic  0.824800  0.485915  0.782189\n",
       "4       LGBM_Smote_Basic  0.816400  0.500906  0.779660\n",
       "5        LGBM_smote_gbdt  0.810133  0.497530  0.775639\n",
       "6        LGBM_smote_goss  0.805200  0.509567  0.768722\n",
       "7        LGBM_smote_dart  0.800933  0.529764  0.781955\n",
       "8       LGBM_adasyn_dart  0.810400  0.515997  0.772908\n",
       "9  LGBM_smote+tomek_dart  0.804667  0.521085  0.778726"
      ]
     },
     "execution_count": 95,
     "metadata": {},
     "output_type": "execute_result"
    }
   ],
   "source": [
    "lgb_tomek=LGBMClassifier(boosting_type='dart',learning_rate=0.31,n_estimators=100,reg_alpha=8,\n",
    "                   reg_lambda=95,max_depth=8,random_state=10)\n",
    "update('LGBM_smote+tomek_dart',lgb_tomek,xtrain_tk,xtest,ytrain_tk,ytest)"
   ]
  },
  {
   "cell_type": "code",
   "execution_count": 33,
   "id": "8a2c3a50",
   "metadata": {},
   "outputs": [],
   "source": [
    "#Smote+enn"
   ]
  },
  {
   "cell_type": "code",
   "execution_count": 59,
   "id": "3742d0a0",
   "metadata": {},
   "outputs": [
    {
     "data": {
      "text/plain": [
       "(0    17534\n",
       " 1     4966\n",
       " Name: Default, dtype: int64,\n",
       " 1    14214\n",
       " 0     9252\n",
       " Name: Default, dtype: int64)"
      ]
     },
     "execution_count": 59,
     "metadata": {},
     "output_type": "execute_result"
    }
   ],
   "source": [
    "from imblearn.combine import SMOTEENN\n",
    "osenn=SMOTEENN(random_state=10)\n",
    "\n",
    "xtrain_enn,ytrain_enn=osenn.fit_resample(xtrain,ytrain)\n",
    "\n",
    "ytrain.value_counts(),ytrain_enn.value_counts()"
   ]
  },
  {
   "cell_type": "code",
   "execution_count": 35,
   "id": "68258244",
   "metadata": {},
   "outputs": [
    {
     "data": {
      "text/plain": [
       "{'learning_rate': 0.2799999999999999,\n",
       " 'max_depth': 11,\n",
       " 'n_estimators': 150,\n",
       " 'reg_alpha': 9,\n",
       " 'reg_lambda': 55}"
      ]
     },
     "execution_count": 35,
     "metadata": {},
     "output_type": "execute_result"
    }
   ],
   "source": [
    "param=[{'learning_rate':np.arange(0.18,0.29,0.02),\n",
    "        'n_estimators':np.arange(50,200,50),'reg_alpha':np.arange(8,12,1),\n",
    "       'reg_lambda':np.arange(55,66,5),'max_depth':[10,11,12]}]\n",
    "\n",
    "\n",
    "\n",
    "lgb_smote_grid=GridSearchCV(estimator=LGBMClassifier(boosting_type='dart',random_state=10),param_grid=param,\n",
    "                            cv=3,scoring='recall',n_jobs=-1)\n",
    "\n",
    "lgb_smote_grid.fit(xtrain_enn,ytrain_enn)\n",
    "\n",
    "lgb_smote_grid.best_params_"
   ]
  },
  {
   "cell_type": "code",
   "execution_count": 96,
   "id": "be45d80f",
   "metadata": {},
   "outputs": [
    {
     "name": "stdout",
     "output_type": "stream",
     "text": [
      "              precision    recall  f1-score   support\n",
      "\n",
      "           0       0.89      0.76      0.82      5830\n",
      "           1       0.44      0.67      0.53      1670\n",
      "\n",
      "    accuracy                           0.74      7500\n",
      "   macro avg       0.67      0.71      0.68      7500\n",
      "weighted avg       0.79      0.74      0.75      7500\n",
      "\n"
     ]
    },
    {
     "data": {
      "text/html": [
       "<div>\n",
       "<style scoped>\n",
       "    .dataframe tbody tr th:only-of-type {\n",
       "        vertical-align: middle;\n",
       "    }\n",
       "\n",
       "    .dataframe tbody tr th {\n",
       "        vertical-align: top;\n",
       "    }\n",
       "\n",
       "    .dataframe thead th {\n",
       "        text-align: right;\n",
       "    }\n",
       "</style>\n",
       "<table border=\"1\" class=\"dataframe\">\n",
       "  <thead>\n",
       "    <tr style=\"text-align: right;\">\n",
       "      <th></th>\n",
       "      <th>Name</th>\n",
       "      <th>Acc</th>\n",
       "      <th>f1-score</th>\n",
       "      <th>roc-auc</th>\n",
       "    </tr>\n",
       "  </thead>\n",
       "  <tbody>\n",
       "    <tr>\n",
       "      <th>0</th>\n",
       "      <td>Random_Forest</td>\n",
       "      <td>0.815200</td>\n",
       "      <td>0.466923</td>\n",
       "      <td>0.761342</td>\n",
       "    </tr>\n",
       "    <tr>\n",
       "      <th>1</th>\n",
       "      <td>Adaboost</td>\n",
       "      <td>0.820000</td>\n",
       "      <td>0.449429</td>\n",
       "      <td>0.780157</td>\n",
       "    </tr>\n",
       "    <tr>\n",
       "      <th>2</th>\n",
       "      <td>GradientBoost</td>\n",
       "      <td>0.811200</td>\n",
       "      <td>0.464448</td>\n",
       "      <td>0.770851</td>\n",
       "    </tr>\n",
       "    <tr>\n",
       "      <th>3</th>\n",
       "      <td>LGBM_Basic</td>\n",
       "      <td>0.824800</td>\n",
       "      <td>0.485915</td>\n",
       "      <td>0.782189</td>\n",
       "    </tr>\n",
       "    <tr>\n",
       "      <th>4</th>\n",
       "      <td>LGBM_Smote_Basic</td>\n",
       "      <td>0.816400</td>\n",
       "      <td>0.500906</td>\n",
       "      <td>0.779660</td>\n",
       "    </tr>\n",
       "    <tr>\n",
       "      <th>5</th>\n",
       "      <td>LGBM_smote_gbdt</td>\n",
       "      <td>0.810133</td>\n",
       "      <td>0.497530</td>\n",
       "      <td>0.775639</td>\n",
       "    </tr>\n",
       "    <tr>\n",
       "      <th>6</th>\n",
       "      <td>LGBM_smote_goss</td>\n",
       "      <td>0.805200</td>\n",
       "      <td>0.509567</td>\n",
       "      <td>0.768722</td>\n",
       "    </tr>\n",
       "    <tr>\n",
       "      <th>7</th>\n",
       "      <td>LGBM_smote_dart</td>\n",
       "      <td>0.800933</td>\n",
       "      <td>0.529764</td>\n",
       "      <td>0.781955</td>\n",
       "    </tr>\n",
       "    <tr>\n",
       "      <th>8</th>\n",
       "      <td>LGBM_adasyn_dart</td>\n",
       "      <td>0.810400</td>\n",
       "      <td>0.515997</td>\n",
       "      <td>0.772908</td>\n",
       "    </tr>\n",
       "    <tr>\n",
       "      <th>9</th>\n",
       "      <td>LGBM_smote+tomek_dart</td>\n",
       "      <td>0.804667</td>\n",
       "      <td>0.521085</td>\n",
       "      <td>0.778726</td>\n",
       "    </tr>\n",
       "    <tr>\n",
       "      <th>10</th>\n",
       "      <td>LGBM_smote+enn_dart</td>\n",
       "      <td>0.738133</td>\n",
       "      <td>0.533270</td>\n",
       "      <td>0.782988</td>\n",
       "    </tr>\n",
       "  </tbody>\n",
       "</table>\n",
       "</div>"
      ],
      "text/plain": [
       "                     Name       Acc  f1-score   roc-auc\n",
       "0           Random_Forest  0.815200  0.466923  0.761342\n",
       "1                Adaboost  0.820000  0.449429  0.780157\n",
       "2           GradientBoost  0.811200  0.464448  0.770851\n",
       "3              LGBM_Basic  0.824800  0.485915  0.782189\n",
       "4        LGBM_Smote_Basic  0.816400  0.500906  0.779660\n",
       "5         LGBM_smote_gbdt  0.810133  0.497530  0.775639\n",
       "6         LGBM_smote_goss  0.805200  0.509567  0.768722\n",
       "7         LGBM_smote_dart  0.800933  0.529764  0.781955\n",
       "8        LGBM_adasyn_dart  0.810400  0.515997  0.772908\n",
       "9   LGBM_smote+tomek_dart  0.804667  0.521085  0.778726\n",
       "10    LGBM_smote+enn_dart  0.738133  0.533270  0.782988"
      ]
     },
     "execution_count": 96,
     "metadata": {},
     "output_type": "execute_result"
    }
   ],
   "source": [
    "lgb=LGBMClassifier(boosting_type='dart',learning_rate=0.27,n_estimators=150,reg_alpha=9,\n",
    "                   reg_lambda=55,max_depth=11,random_state=10)\n",
    "update('LGBM_smote+enn_dart',lgb,xtrain_enn,xtest,ytrain_enn,ytest)"
   ]
  },
  {
   "cell_type": "code",
   "execution_count": null,
   "id": "6985ab34",
   "metadata": {},
   "outputs": [],
   "source": []
  },
  {
   "cell_type": "code",
   "execution_count": 43,
   "id": "4c0f94f7",
   "metadata": {},
   "outputs": [],
   "source": [
    "#Lets choose this as our final model."
   ]
  },
  {
   "cell_type": "code",
   "execution_count": 61,
   "id": "ea551efe",
   "metadata": {},
   "outputs": [
    {
     "name": "stdout",
     "output_type": "stream",
     "text": [
      "              precision    recall  f1-score   support\n",
      "\n",
      "           0       0.89      0.76      0.82      5830\n",
      "           1       0.44      0.67      0.53      1670\n",
      "\n",
      "    accuracy                           0.74      7500\n",
      "   macro avg       0.67      0.71      0.68      7500\n",
      "weighted avg       0.79      0.74      0.75      7500\n",
      "\n"
     ]
    }
   ],
   "source": [
    "lgb_final=LGBMClassifier(boosting_type='dart',learning_rate=0.27,n_estimators=150,reg_alpha=9,\n",
    "                   reg_lambda=55,max_depth=11,random_state=10)\n",
    "\n",
    "lgb_final.fit(xtrain_enn,ytrain_enn)\n",
    "\n",
    "\n",
    "y_pred=lgb_final.predict(xtest)\n",
    "report=classification_report(ytest,y_pred)\n",
    "print(report)"
   ]
  },
  {
   "cell_type": "code",
   "execution_count": 62,
   "id": "e84d82dc",
   "metadata": {},
   "outputs": [],
   "source": [
    "models_.append(lgb_final)"
   ]
  },
  {
   "cell_type": "code",
   "execution_count": 47,
   "id": "634d97bb",
   "metadata": {},
   "outputs": [
    {
     "name": "stdout",
     "output_type": "stream",
     "text": [
      "[[4463 1367]\n",
      " [ 566 1104]]\n"
     ]
    }
   ],
   "source": [
    "cm=confusion_matrix(ytest,y_pred)\n",
    "print(cm)"
   ]
  },
  {
   "cell_type": "code",
   "execution_count": 53,
   "id": "8b21d76c",
   "metadata": {},
   "outputs": [
    {
     "data": {
      "text/plain": [
       "[<matplotlib.lines.Line2D at 0x2849be83be0>]"
      ]
     },
     "execution_count": 53,
     "metadata": {},
     "output_type": "execute_result"
    },
    {
     "data": {
      "image/png": "[encoded data removed]",
      "text/plain": [
       "<Figure size 864x432 with 1 Axes>"
      ]
     },
     "metadata": {
      "needs_background": "light"
     },
     "output_type": "display_data"
    }
   ],
   "source": [
    "y_pred_prob=lgb_final.predict_proba(xtest)[:,1]\n",
    "fpr,tpr,th=roc_curve(ytest,y_pred_prob)\n",
    "plt.plot(fpr,tpr)\n",
    "plt.plot([0,1],[0,1],'r--')"
   ]
  },
  {
   "cell_type": "code",
   "execution_count": 84,
   "id": "1f38e0c6",
   "metadata": {},
   "outputs": [
    {
     "data": {
      "text/plain": [
       "[<matplotlib.lines.Line2D at 0x146bfb733a0>]"
      ]
     },
     "execution_count": 84,
     "metadata": {},
     "output_type": "execute_result"
    },
    {
     "data": {
      "image/png": "[encoded data removed]",
      "text/plain": [
       "<Figure size 864x432 with 1 Axes>"
      ]
     },
     "metadata": {
      "needs_background": "light"
     },
     "output_type": "display_data"
    }
   ],
   "source": [
    "\n",
    "from sklearn.metrics import precision_recall_curve\n",
    "\n",
    "for model_n,model in model_.items():\n",
    "    y_pred_prob=model.predict_proba(xtest)[:,1]\n",
    "\n",
    "    pr,re,th=precision_recall_curve(ytest,y_pred_prob)\n",
    "\n",
    "    plt.plot(pr,re,label=model_n)\n",
    "    \n",
    "    \n",
    "plt.legend()\n",
    "plt.plot([0,1],[1,0],'r--')"
   ]
  }
 ],
 "metadata": {
  "kernelspec": {
   "display_name": "Python 3",
   "language": "python",
   "name": "python3"
  },
  "language_info": {
   "codemirror_mode": {
    "name": "ipython",
    "version": 3
   },
   "file_extension": ".py",
   "mimetype": "text/x-python",
   "name": "python",
   "nbconvert_exporter": "python",
   "pygments_lexer": "ipython3",
   "version": "3.8.8"
  }
 },
 "nbformat": 4,
 "nbformat_minor": 5
}
